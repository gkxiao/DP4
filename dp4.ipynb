{
 "cells": [
  {
   "cell_type": "code",
   "execution_count": 1,
   "metadata": {
    "collapsed": true
   },
   "outputs": [],
   "source": [
    "from scipy import stats\n",
    "import os\n",
    "import numpy as np"
   ]
  },
  {
   "cell_type": "code",
   "execution_count": 2,
   "metadata": {
    "collapsed": true
   },
   "outputs": [],
   "source": [
    "# Standard DP4 parameters\n",
    "# taken form the DP4-AI on Oct.10,2020 from \n",
    "meanC = 0.0\n",
    "meanH = 0.0\n",
    "stdevC = 2.269372270818724\n",
    "stdevH = 0.18731058105269952\n",
    "\n",
    "\n",
    "\n",
    "def ScaleNMR(calcShifts, expShifts):\n",
    "    slope, intercept, r_value, p_value, std_err = stats.linregress(expShifts,calcShifts)\n",
    "    scaled = [(x - intercept) / slope for x in calcShifts]\n",
    "    return scaled\n",
    "\n",
    "\n",
    "\n",
    "def SingleGausProbability(error, mean, stdev):\n",
    "    z = abs((error - mean) / stdev)\n",
    "    cdp4 = 2 * stats.norm.cdf(-z)\n",
    "    return cdp4\n",
    "\n",
    "\n",
    "def MultiGausProbability(error, means, stdevs):\n",
    "    res = 0\n",
    "    for mean, stdev in zip(means, stdevs):\n",
    "        res += stats.norm(mean, stdev).pdf(error)\n",
    "    return res / len(means)\n",
    "\n",
    "\n",
    "def multiplyList(myList):\n",
    "    # calculate product of each element in a list\n",
    "    product = 1\n",
    "    for x in myList:\n",
    "        product = product * x \n",
    "    return product "
   ]
  },
  {
   "cell_type": "markdown",
   "metadata": {},
   "source": [
    "<p>C13_15a: the calculated <sup>13</sup>C-NMR shifts of the 15a.The NMR data is taken from Table 2.</p>\n",
    "<p>C13_15b: the calculated <sup>13</sup>C-NMR shifts of the 15b.The NMR data is taken from Table 2.</p>\n",
    "<p>C13_exp: the experimental <sup>13</sup>C-NMR shifts of the nature product.The NMR data is taken from Table 2.</p>"
   ]
  },
  {
   "cell_type": "code",
   "execution_count": 3,
   "metadata": {
    "collapsed": true
   },
   "outputs": [],
   "source": [
    "C13_15a = [40.56, 27.05, 22.15, 34.93, 58.27, 41.39, 36.06, 41.01, 56.48, 40.18, 33.74, 39.09, 63.03, 39.54, 24.46, 24.25, 41.07]\n",
    "C13_15b = [40.97, 28.56, 22.53, 37.92, 58.34, 39.27, 34.78, 41.11, 57.31, 41.75, 32.35, 39.35, 63.21, 39.50, 24.43, 24.33, 41.39]\n",
    "C13_exp = [41.0, 26.3, 20.9, 34.6, 56.1, 40.0, 34.5, 41.9, 58.5, 37.4, 32.5, 36.9, 65.1, 40.0, 22.0, 23.0, 43.4]"
   ]
  },
  {
   "cell_type": "code",
   "execution_count": 4,
   "metadata": {},
   "outputs": [
    {
     "name": "stdout",
     "output_type": "stream",
     "text": [
      "0.926629008373344 3.361880330764457 0.9932022991772375 1.988951666126411e-15 0.02804008069335585\n"
     ]
    }
   ],
   "source": [
    "slope, intercept, r_value, p_value, std_err = stats.linregress(C13_exp,C13_15a)\n",
    "print(slope,intercept,r_value,p_value,std_err)"
   ]
  },
  {
   "cell_type": "code",
   "execution_count": 5,
   "metadata": {},
   "outputs": [
    {
     "name": "stdout",
     "output_type": "stream",
     "text": [
      "0.9251142097063931 3.6460467900616607 0.990134430936525 3.221003570501109e-14 0.03380320168282053\n"
     ]
    }
   ],
   "source": [
    "slope, intercept, r_value, p_value, std_err = stats.linregress(C13_exp,C13_15b)\n",
    "print(slope,intercept,r_value,p_value,std_err)"
   ]
  },
  {
   "cell_type": "code",
   "execution_count": 6,
   "metadata": {
    "collapsed": true
   },
   "outputs": [],
   "source": [
    "scaled_15a = ScaleNMR(C13_15a, C13_exp)"
   ]
  },
  {
   "cell_type": "code",
   "execution_count": 7,
   "metadata": {
    "collapsed": true
   },
   "outputs": [],
   "source": [
    "scaled_15b = ScaleNMR(C13_15b, C13_exp)"
   ]
  },
  {
   "cell_type": "code",
   "execution_count": 8,
   "metadata": {},
   "outputs": [
    {
     "name": "stdout",
     "output_type": "stream",
     "text": [
      "[40.143487127102986, 25.563757938917735, 20.27577325926505, 34.067700648236745, 59.2557746121334, 41.03920698100334, 35.287174666197465, 40.629118373193535, 57.32404143323986, 39.73339851929319, 32.78347579746395, 38.557091723207186, 64.39267401522457, 39.042722969297735, 22.76868032252989, 22.54205240768763, 40.693869206005616]\n"
     ]
    }
   ],
   "source": [
    "print(scaled_15a)"
   ]
  },
  {
   "cell_type": "code",
   "execution_count": 9,
   "metadata": {},
   "outputs": [
    {
     "name": "stdout",
     "output_type": "stream",
     "text": [
      "[40.34523826175362, 26.930678340618474, 20.41256421294362, 37.04834803133765, 59.12129836087672, 38.507627313652925, 33.654172515434, 40.496570928067804, 58.007922315851, 41.18837740264689, 31.02746980726652, 38.594103122975305, 64.38551325337697, 38.75624526545478, 22.46636468435029, 22.358269922697307, 40.799236260696155]\n"
     ]
    }
   ],
   "source": [
    "print(scaled_15b)"
   ]
  },
  {
   "cell_type": "code",
   "execution_count": 10,
   "metadata": {
    "collapsed": true
   },
   "outputs": [],
   "source": [
    "import numpy as np\n",
    "error_15a = list(np.array(scaled_15a) - np.array(C13_15a))\n",
    "error_15b = list(np.array(scaled_15b) - np.array(C13_15b))"
   ]
  },
  {
   "cell_type": "code",
   "execution_count": 11,
   "metadata": {},
   "outputs": [
    {
     "name": "stdout",
     "output_type": "stream",
     "text": [
      "[-0.416512872897016, -1.4862420610822653, -1.8742267407349473, -0.8622993517632551, 0.9857746121333975, -0.3507930189966615, -0.7728253338025368, -0.3808816268064632, 0.844041433239866, -0.4466014807068106, -0.9565242025360519, -0.532908276792817, 1.3626740152245702, -0.49727703070226426, -1.691319677470112, -1.7079475923123688, -0.37613079399438476]\n"
     ]
    }
   ],
   "source": [
    "print(error_15a)"
   ]
  },
  {
   "cell_type": "code",
   "execution_count": 12,
   "metadata": {
    "collapsed": true
   },
   "outputs": [],
   "source": [
    "Probs_15a = []\n",
    "Probs_15a.append([SingleGausProbability(e, meanC, stdevC) for e in error_15a])"
   ]
  },
  {
   "cell_type": "code",
   "execution_count": 13,
   "metadata": {},
   "outputs": [
    {
     "name": "stdout",
     "output_type": "stream",
     "text": [
      "[[0.8543770030853317, 0.5125235828027612, 0.4088727744862264, 0.7039657317067431, 0.6640110197837302, 0.8771547125250574, 0.7334454922196099, 0.8667125560115825, 0.7099470007857727, 0.8439878382734125, 0.6733952258834981, 0.8143435597606735, 0.5481977319460394, 0.8265523912551247, 0.45610196003317893, 0.45168554427053353, 0.8683598202333978]]\n"
     ]
    }
   ],
   "source": [
    "print(Probs_15a)"
   ]
  },
  {
   "cell_type": "code",
   "execution_count": 14,
   "metadata": {
    "collapsed": true
   },
   "outputs": [],
   "source": [
    "Probs_15b = []\n",
    "Probs_15b.append([SingleGausProbability(e, meanC, stdevC) for e in error_15b])"
   ]
  },
  {
   "cell_type": "code",
   "execution_count": 15,
   "metadata": {},
   "outputs": [
    {
     "name": "stdout",
     "output_type": "stream",
     "text": [
      "[[0.7830845620365265, 0.47278109651024836, 0.35079461047883576, 0.7009088777530617, 0.7306360963029352, 0.7369161903802651, 0.6198263770326575, 0.78692344951103, 0.758432526594654, 0.8045373312673165, 0.5600457356482049, 0.73906911921945, 0.6044649049202346, 0.7431113666226719, 0.3868868476623063, 0.38493256035138845, 0.7946166916865466]]\n"
     ]
    }
   ],
   "source": [
    "print(Probs_15b)"
   ]
  },
  {
   "cell_type": "code",
   "execution_count": 17,
   "metadata": {},
   "outputs": [],
   "source": [
    "Probs_15a = []\n",
    "for e in error_15a:\n",
    "    cdp4 = SingleGausProbability(e, meanC, stdevC)\n",
    "    Probs_15a.append(cdp4)"
   ]
  },
  {
   "cell_type": "code",
   "execution_count": 18,
   "metadata": {},
   "outputs": [
    {
     "name": "stdout",
     "output_type": "stream",
     "text": [
      "[0.8543770030853317, 0.5125235828027612, 0.4088727744862264, 0.7039657317067431, 0.6640110197837302, 0.8771547125250574, 0.7334454922196099, 0.8667125560115825, 0.7099470007857727, 0.8439878382734125, 0.6733952258834981, 0.8143435597606735, 0.5481977319460394, 0.8265523912551247, 0.45610196003317893, 0.45168554427053353, 0.8683598202333978]\n"
     ]
    }
   ],
   "source": [
    "print(Probs_15a)"
   ]
  },
  {
   "cell_type": "code",
   "execution_count": 19,
   "metadata": {
    "collapsed": true
   },
   "outputs": [],
   "source": [
    "Probs_15b = []\n",
    "for e in error_15b:\n",
    "    cdp4 = SingleGausProbability(e, meanC, stdevC)\n",
    "    Probs_15b.append(cdp4)"
   ]
  },
  {
   "cell_type": "code",
   "execution_count": 20,
   "metadata": {},
   "outputs": [
    {
     "name": "stdout",
     "output_type": "stream",
     "text": [
      "[0.7830845620365265, 0.47278109651024836, 0.35079461047883576, 0.7009088777530617, 0.7306360963029352, 0.7369161903802651, 0.6198263770326575, 0.78692344951103, 0.758432526594654, 0.8045373312673165, 0.5600457356482049, 0.73906911921945, 0.6044649049202346, 0.7431113666226719, 0.3868868476623063, 0.38493256035138845, 0.7946166916865466]\n"
     ]
    }
   ],
   "source": [
    "print(Probs_15b)"
   ]
  },
  {
   "cell_type": "code",
   "execution_count": 21,
   "metadata": {
    "collapsed": true
   },
   "outputs": [],
   "source": [
    "#calculate DP4 propability of 15b\n",
    "# the reported DP4 is 79.5%\n",
    "dp4_15a =  100*multiplyList(Probs_15a)/(multiplyList(Probs_15a)+multiplyList(Probs_15b))"
   ]
  },
  {
   "cell_type": "code",
   "execution_count": 22,
   "metadata": {},
   "outputs": [
    {
     "name": "stdout",
     "output_type": "stream",
     "text": [
      "79.47753351130793\n"
     ]
    }
   ],
   "source": [
    "print(dp4_15a)"
   ]
  },
  {
   "cell_type": "code",
   "execution_count": 23,
   "metadata": {
    "collapsed": true
   },
   "outputs": [],
   "source": [
    "#calculate DP4 propability of 15b\n",
    "# the reported DP4 is 20.5%\n",
    "dp4_15b =  100*multiplyList(Probs_15b)/(multiplyList(Probs_15a)+multiplyList(Probs_15b))"
   ]
  },
  {
   "cell_type": "code",
   "execution_count": 24,
   "metadata": {},
   "outputs": [
    {
     "name": "stdout",
     "output_type": "stream",
     "text": [
      "20.52246648869209\n"
     ]
    }
   ],
   "source": [
    "print(dp4_15b)"
   ]
  },
  {
   "cell_type": "code",
   "execution_count": null,
   "metadata": {
    "collapsed": true
   },
   "outputs": [],
   "source": []
  }
 ],
 "metadata": {
  "kernelspec": {
   "display_name": "Python 3",
   "language": "python",
   "name": "python3"
  },
  "language_info": {
   "codemirror_mode": {
    "name": "ipython",
    "version": 3
   },
   "file_extension": ".py",
   "mimetype": "text/x-python",
   "name": "python",
   "nbconvert_exporter": "python",
   "pygments_lexer": "ipython3",
   "version": "3.6.5"
  }
 },
 "nbformat": 4,
 "nbformat_minor": 2
}
