{
 "cells": [
  {
   "cell_type": "code",
   "execution_count": 1,
   "metadata": {},
   "outputs": [],
   "source": [
    "from scipy import stats\n",
    "import os\n",
    "import numpy as np"
   ]
  },
  {
   "cell_type": "code",
   "execution_count": 2,
   "metadata": {},
   "outputs": [],
   "source": [
    "# Standard DP4 parameters\n",
    "# take from the DP4-AI on Oct.10,2020\n",
    "meanC = 0.0\n",
    "meanH = 0.0\n",
    "stdevC = 2.269372270818724\n",
    "stdevH = 0.18731058105269952\n",
    "\n",
    "\n",
    "\n",
    "def ScaleNMR(calcShifts, expShifts):\n",
    "    slope, intercept, r_value, p_value, std_err = stats.linregress(expShifts,calcShifts)\n",
    "    scaled = [(x - intercept) / slope for x in calcShifts]\n",
    "    return scaled\n",
    "\n",
    "\n",
    "\n",
    "def SingleGausProbability(error, mean, stdev):\n",
    "    z = abs((error - mean) / stdev)\n",
    "    cdp4 = 2 * stats.norm.cdf(-z)\n",
    "    return cdp4\n",
    "\n",
    "\n",
    "def MultiGausProbability(error, means, stdevs):\n",
    "    res = 0\n",
    "    for mean, stdev in zip(means, stdevs):\n",
    "        res += stats.norm(mean, stdev).pdf(error)\n",
    "    return res / len(means)\n",
    "\n",
    "\n",
    "def multiplyList(myList):\n",
    "    # calculate product of each element in a list\n",
    "    product = 1\n",
    "    for x in myList:\n",
    "        product = product * x \n",
    "    return product "
   ]
  },
  {
   "cell_type": "markdown",
   "metadata": {},
   "source": [
    "<p>C13_15a: the calculated <sup>13</sup>C-NMR shifts of the 15a.The NMR data is taken from Table 2.</p>\n",
    "<p>C13_15b: the calculated <sup>13</sup>C-NMR shifts of the 15b.The NMR data is taken from Table 2.</p>\n",
    "<p>C13_exp: the experimental <sup>13</sup>C-NMR shifts of the nature product.The NMR data is taken from Table 2.</p>"
   ]
  },
  {
   "cell_type": "code",
   "execution_count": 3,
   "metadata": {},
   "outputs": [],
   "source": [
    "C13_15a = [40.56, 27.05, 22.15, 34.93, 58.27, 41.39, 36.06, 41.01, 56.48, 40.18, 33.74, 39.09, 63.03, 39.54, 24.46, 24.25, 41.07]\n",
    "C13_15b = [40.97, 28.56, 22.53, 37.92, 58.34, 39.27, 34.78, 41.11, 57.31, 41.75, 32.35, 39.35, 63.21, 39.50, 24.43, 24.33, 41.39]\n",
    "C13_exp = [41.0, 26.3, 20.9, 34.6, 56.1, 40.0, 34.5, 41.9, 58.5, 37.4, 32.5, 36.9, 65.1, 40.0, 22.0, 23.0, 43.4]"
   ]
  },
  {
   "cell_type": "code",
   "execution_count": 4,
   "metadata": {},
   "outputs": [],
   "source": [
    "scaled_15a = ScaleNMR(C13_15a, C13_exp)\n",
    "scaled_15b = ScaleNMR(C13_15b, C13_exp)"
   ]
  },
  {
   "cell_type": "code",
   "execution_count": 5,
   "metadata": {},
   "outputs": [
    {
     "name": "stdout",
     "output_type": "stream",
     "text": [
      "[40.143487127102986, 25.563757938917735, 20.27577325926505, 34.067700648236745, 59.2557746121334, 41.03920698100334, 35.287174666197465, 40.629118373193535, 57.32404143323986, 39.73339851929319, 32.78347579746395, 38.557091723207186, 64.39267401522457, 39.042722969297735, 22.76868032252989, 22.54205240768763, 40.693869206005616]\n"
     ]
    }
   ],
   "source": [
    "print(scaled_15a)"
   ]
  },
  {
   "cell_type": "code",
   "execution_count": 6,
   "metadata": {},
   "outputs": [
    {
     "name": "stdout",
     "output_type": "stream",
     "text": [
      "[40.34523826175362, 26.930678340618474, 20.41256421294362, 37.04834803133765, 59.12129836087672, 38.507627313652925, 33.654172515434, 40.496570928067804, 58.007922315851, 41.18837740264689, 31.02746980726652, 38.594103122975305, 64.38551325337697, 38.75624526545478, 22.46636468435029, 22.358269922697307, 40.799236260696155]\n"
     ]
    }
   ],
   "source": [
    "print(scaled_15b)"
   ]
  },
  {
   "cell_type": "code",
   "execution_count": 7,
   "metadata": {},
   "outputs": [],
   "source": [
    "# calculate corrected error\n",
    "import numpy as np\n",
    "error_15a = list(np.array(scaled_15a) - np.array(C13_exp))\n",
    "error_15b = list(np.array(scaled_15b) - np.array(C13_exp))"
   ]
  },
  {
   "cell_type": "code",
   "execution_count": 8,
   "metadata": {},
   "outputs": [
    {
     "name": "stdout",
     "output_type": "stream",
     "text": [
      "[-0.8565128728970137, -0.7362420610822653, -0.6242267407349473, -0.5322993517632568, 3.155774612133399, 1.039206981003339, 0.7871746661974655, -1.2708816268064638, -1.175958566760137, 2.3333985192931905, 0.28347579746395013, 1.6570917232071878, -0.707325984775423, -0.9572770307022651, 0.7686803225298888, -0.4579475923123688, -2.706130793994383]\n"
     ]
    }
   ],
   "source": [
    "print(error_15a)"
   ]
  },
  {
   "cell_type": "code",
   "execution_count": 9,
   "metadata": {},
   "outputs": [
    {
     "name": "stdout",
     "output_type": "stream",
     "text": [
      "[-0.6547617382463784, 0.6306783406184735, -0.487435787056377, 2.4483480313376518, 3.0212983608767203, -1.4923726863470748, -0.8458274845660014, -1.4034290719321945, -0.49207768414900244, 3.788377402646894, -1.4725301927334797, 1.6941031229753065, -0.7144867466230238, -1.2437547345452202, 0.4663646843502889, -0.641730077302693, -2.6007637393038436]\n"
     ]
    }
   ],
   "source": [
    "print(error_15b)"
   ]
  },
  {
   "cell_type": "code",
   "execution_count": 10,
   "metadata": {},
   "outputs": [
    {
     "name": "stdout",
     "output_type": "stream",
     "text": [
      "[0.7058594138126323, 0.7456159742118511, 0.7832656720123321, 0.8145518349730874, 0.16434869065387614, 0.6470048422990606, 0.7286898109794171, 0.5754694724953602, 0.604328001495084, 0.3038495516443137, 0.9005918337658161, 0.4652689952826212, 0.7552810378155683, 0.6731530548210716, 0.7348211549723302, 0.8400771232237942, 0.23308176597007946]\n"
     ]
    }
   ],
   "source": [
    "Probs_15a = []\n",
    "for e in error_15a:\n",
    "    cdp4 = SingleGausProbability(e, meanC, stdevC)\n",
    "    Probs_15a.append(cdp4)\n",
    "\n",
    "print(Probs_15a)"
   ]
  },
  {
   "cell_type": "code",
   "execution_count": 11,
   "metadata": {},
   "outputs": [
    {
     "name": "stdout",
     "output_type": "stream",
     "text": [
      "[0.7729478968320255, 0.7810824306959522, 0.8299319715884078, 0.2806475762025967, 0.18307828075320476, 0.5107857119329102, 0.70936109647667, 0.5362973930205699, 0.8283375021379228, 0.09504796650558697, 0.5164216644222192, 0.45536098185165885, 0.752883948802845, 0.5836499281278643, 0.8371785091479924, 0.7773465045048046, 0.251783644309605]\n"
     ]
    }
   ],
   "source": [
    "Probs_15b = []\n",
    "for e in error_15b:\n",
    "    cdp4 = SingleGausProbability(e, meanC, stdevC)\n",
    "    Probs_15b.append(cdp4)\n",
    "print(Probs_15b)"
   ]
  },
  {
   "cell_type": "code",
   "execution_count": 12,
   "metadata": {},
   "outputs": [
    {
     "name": "stdout",
     "output_type": "stream",
     "text": [
      "15a DP4:  92.66701404998044\n"
     ]
    }
   ],
   "source": [
    "#calculate DP4 propability of 15b\n",
    "# the reported DP4 is 79.5%\n",
    "dp4_15a =  100*multiplyList(Probs_15a)/(multiplyList(Probs_15a)+multiplyList(Probs_15b))\n",
    "print(\"15a DP4: \",dp4_15a)"
   ]
  },
  {
   "cell_type": "code",
   "execution_count": 13,
   "metadata": {},
   "outputs": [
    {
     "name": "stdout",
     "output_type": "stream",
     "text": [
      "15b DP4:  7.332985950019572\n"
     ]
    }
   ],
   "source": [
    "#calculate DP4 propability of 15b\n",
    "# the reported DP4 is 20.5%\n",
    "dp4_15b =  100*multiplyList(Probs_15b)/(multiplyList(Probs_15a)+multiplyList(Probs_15b))\n",
    "print(\"15b DP4: \",dp4_15b)"
   ]
  },
  {
   "cell_type": "code",
   "execution_count": 14,
   "metadata": {},
   "outputs": [
    {
     "name": "stdout",
     "output_type": "stream",
     "text": [
      "8.427425997755389e-05 6.668845119260966e-06\n"
     ]
    }
   ],
   "source": [
    "print(multiplyList(Probs_15a),multiplyList(Probs_15b))"
   ]
  },
  {
   "cell_type": "code",
   "execution_count": null,
   "metadata": {},
   "outputs": [],
   "source": []
  }
 ],
 "metadata": {
  "kernelspec": {
   "display_name": "Python 3",
   "language": "python",
   "name": "python3"
  },
  "language_info": {
   "codemirror_mode": {
    "name": "ipython",
    "version": 3
   },
   "file_extension": ".py",
   "mimetype": "text/x-python",
   "name": "python",
   "nbconvert_exporter": "python",
   "pygments_lexer": "ipython3",
   "version": "3.6.11"
  }
 },
 "nbformat": 4,
 "nbformat_minor": 4
}
